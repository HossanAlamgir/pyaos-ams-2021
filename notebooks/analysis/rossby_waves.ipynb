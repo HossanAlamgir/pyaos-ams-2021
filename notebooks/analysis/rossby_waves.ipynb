{
 "cells": [
  {
   "cell_type": "markdown",
   "metadata": {},
   "source": [
    "<a name=\"top\"></a>\n",
    "<div style=\"width:1000 px\">\n",
    "\n",
    "<div style=\"float:right; width:98 px; height:98px;\">\n",
    "<img src=\"https://raw.githubusercontent.com/Unidata/MetPy/master/src/metpy/plots/_static/unidata_150x150.png\" alt=\"Unidata Logo\" style=\"height: 98px;\">\n",
    "</div>\n",
    "\n",
    "<h1>Rossby Waves</h1>\n",
    "<h3>Unidata AMS 2021 Student Conference</h3>\n",
    "\n",
    "<div style=\"clear:both\"></div>\n",
    "</div>\n",
    "\n",
    "---\n",
    "\n",
    "If you'd want a starting point for the Rossby Wave Analysis project suggestion, feel free to take a look through this notebook for ideas! It goes over some of the basics of Rossby Wave theory (but not quite enough to teach you everything you'd learn in an actual dynamics course), as well as some approaches to analyze the data. This notebook also uses [scipy](https://docs.scipy.org/doc/scipy-1.6.0/reference/) in several places, so feel free to click on the links to learn more about the functionality available in that library.\n",
    "\n",
    "<div style=\"float:right; width:250 px\"><img src=\"../../instructors/images/rossby_wave_screenshot.png\" alt=\"Cyclically smoothing heights\" style=\"height: 300px;\"></div>\n",
    "\n",
    "\n",
    "### Focuses\n",
    "\n",
    "- Obtain GFS data from which we can perform our analysis\n",
    "- Obtain calculated paramters:\n",
    "    - Smoothed 500 hPa heights \n",
    "    - Zonal-average zonal winds at 500 hPa and the 150-300 hPa layer maximum\n",
    "    - Wave maxima/minima, and from these:\n",
    "        - Wave number\n",
    "        - Average wave amplitude\n",
    "        - Average wave speed\n",
    "- Compare the observed data against our expected results from basic Rossby Wave theory.\n",
    "- Make Hovmöller diagrams of our height data, to visualize wave evolution over the period\n",
    "\n",
    "### Objectives\n",
    "\n",
    "1. [Source Data Retrieval](#1.-Source-Data-Retrieval)\n",
    "1. [Parameter Derivation](#2.-Parameter-Derivation)\n",
    "1. [Statistical Comparison Against Theory](#3.-Statistical-Comparison-Against-Theory)\n",
    "1. [Hovmöller Diagrams](4.-Hovmöller-Diagrams)\n",
    "\n",
    "---"
   ]
  },
  {
   "cell_type": "code",
   "execution_count": null,
   "metadata": {},
   "outputs": [],
   "source": [
    "# Imports\n",
    "import numpy as np\n",
    "import xarray as xr\n",
    "import matplotlib.pyplot as plt\n",
    "\n",
    "from scipy.signal import savgol_filter\n",
    "from scipy.stats import linregress\n",
    "from datetime import datetime, timedelta\n",
    "from metpy.units import units\n",
    "from metpy.constants import earth_avg_radius, earth_avg_angular_vel"
   ]
  },
  {
   "cell_type": "markdown",
   "metadata": {},
   "source": [
    "<a href=\"#top\">Top</a>\n",
    "\n",
    "---"
   ]
  },
  {
   "cell_type": "markdown",
   "metadata": {},
   "source": [
    "## 1. Source Data Retrieval\n",
    "\n",
    "Here, we use some already-parsed sample data that just gives us zonal winds and geopotential heights along two latitude circles. *How would you use xarray remote data access and indexing to create your own similar dataset?*"
   ]
  },
  {
   "cell_type": "code",
   "execution_count": null,
   "metadata": {},
   "outputs": [],
   "source": [
    "data = xr.open_dataset('../../instructors/practice_files/sample_rossby_wave_data.nc')\n",
    "data"
   ]
  },
  {
   "cell_type": "markdown",
   "metadata": {},
   "source": [
    "<a href=\"#top\">Top</a>\n",
    "\n",
    "---"
   ]
  },
  {
   "cell_type": "markdown",
   "metadata": {},
   "source": [
    "## 2. Parameter Derivation\n",
    "\n",
    "This section is (deliberately) rough! Think of how you could use what you've learned to improve upon the code in this section, or implement other methods to derive these wave parameters."
   ]
  },
  {
   "cell_type": "markdown",
   "metadata": {},
   "source": [
    "### Smoothed 500 hPa Heights\n",
    "\n",
    "Smooth the 1-D height data with [a Savitzky-Golay filter from scipy](https://docs.scipy.org/doc/scipy-1.6.0/reference/generated/scipy.signal.savgol_filter.html)."
   ]
  },
  {
   "cell_type": "code",
   "execution_count": null,
   "metadata": {},
   "outputs": [],
   "source": [
    "# Rename the height field\n",
    "heights = data['Geopotential_height_isobaric'].rename('heights')\n",
    "\n",
    "# Smooth the source data and re-insert into a new xarray DataArray\n",
    "heights_smoothed = xr.DataArray(\n",
    "    savgol_filter(heights, 39, 2, mode=\"wrap\"),\n",
    "    coords=heights.coords,\n",
    "    attrs=heights.attrs,\n",
    "    name='heights_smoothed'\n",
    ")"
   ]
  },
  {
   "cell_type": "code",
   "execution_count": null,
   "metadata": {},
   "outputs": [],
   "source": [
    "# Compare the raw and smoothed data at 500 hPa (using NH, initial time as example)\n",
    "heights.sel(isobaric=50000., lat=50).isel(time=0).plot(color='orange')\n",
    "heights_smoothed.sel(isobaric=50000., lat=50).isel(time=0).plot(color='blue')"
   ]
  },
  {
   "cell_type": "markdown",
   "metadata": {},
   "source": [
    "### Zonal Winds"
   ]
  },
  {
   "cell_type": "code",
   "execution_count": null,
   "metadata": {},
   "outputs": [],
   "source": [
    "# Get the 500 hPa, and 150-300 hPa layer-max zonal-average zonal wind\n",
    "zonal_winds = data['u-component_of_wind_isobaric'].mean(dim='lon')\n",
    "zonal_wind_500 = zonal_winds.sel(isobaric=50000.)\n",
    "zonal_wind_upper = zonal_winds.where(zonal_winds.isobaric <= 30000, drop=True).max(dim='isobaric')"
   ]
  },
  {
   "cell_type": "code",
   "execution_count": null,
   "metadata": {},
   "outputs": [],
   "source": [
    "# Plot over time (for example, in SH)\n",
    "zonal_wind_500.sel(lat=-50).plot(color='red')\n",
    "zonal_wind_upper.sel(lat=-50).plot(color='blue')"
   ]
  },
  {
   "cell_type": "markdown",
   "metadata": {},
   "source": [
    "<a href=\"#top\">Top</a>\n",
    "\n",
    "---"
   ]
  },
  {
   "cell_type": "markdown",
   "metadata": {},
   "source": [
    "### Wave Properties\n",
    "\n",
    "Don't get scared off by this section! It is trying to derive wave amplitude, number, and speed through analysis of the maxima and minima. Could you think of other ways to obtain these same parameters from the smoothed height data?"
   ]
  },
  {
   "cell_type": "code",
   "execution_count": null,
   "metadata": {},
   "outputs": [],
   "source": [
    "# Define some helpful functions\n",
    "def get_minima_indicies(array):\n",
    "    return (np.diff(np.sign(np.diff(array))) > 0).nonzero()[0] + 1\n",
    "\n",
    "\n",
    "def get_maxima_indicies(array):\n",
    "    return (np.diff(np.sign(np.diff(array))) < 0).nonzero()[0] + 1\n",
    "\n",
    "\n",
    "def get_increments(previous_extrema, current_extrema):\n",
    "    # Make sure these are cast as lists\n",
    "    previous_extrema = list(previous_extrema)\n",
    "    current_extrema = list(current_extrema)\n",
    "\n",
    "    # Adjust for overflow\n",
    "    current_extrema = cycle_adjust(previous_extrema, current_extrema)\n",
    "\n",
    "    increments = []\n",
    "    for lon in current_extrema:\n",
    "        # Find closest extrema in previous, and assume continuation\n",
    "        prev_lon = min(previous_extrema, key=lambda x:abs(x-lon))\n",
    "        increments.append(lon - prev_lon)\n",
    "\n",
    "    return np.array(increments)\n",
    "\n",
    "\n",
    "def cycle_adjust(previous_extrema, current_extrema):\n",
    "    # Bump up an overflowed element\n",
    "    if min(current_extrema) < min(previous_extrema)/2:\n",
    "        # If the the new lowest element is closer to zero than it is to the previous lowest,\n",
    "        # assume it is an overflow\n",
    "        overflowed = current_extrema.pop(0)\n",
    "        current_extrema.append(overflowed + 360.)\n",
    "        \n",
    "    return current_extrema\n",
    "\n",
    "\n",
    "def reject_outliers(data):\n",
    "    d = data - np.median(data)\n",
    "    iqr = np.percentile(d, 75) - np.percentile(d, 25)\n",
    "    iqr = iqr if iqr > 0 else 1.\n",
    "\n",
    "    return data[np.abs(d) < 1.5 * iqr]\n",
    "\n",
    "\n",
    "def fraction_of_day(td):\n",
    "    return td / np.timedelta64(1, 'D')"
   ]
  },
  {
   "cell_type": "code",
   "execution_count": null,
   "metadata": {},
   "outputs": [],
   "source": [
    "# Variables for storage of analyzed values (lists of lists)\n",
    "minima_full = [[] for lat in heights_smoothed.lat]\n",
    "maxima_full = [[] for lat in heights_smoothed.lat]\n",
    "wave_number_full = [[] for lat in heights_smoothed.lat]\n",
    "wave_amplitude_full = [[] for lat in heights_smoothed.lat]\n",
    "wave_speed_full = [[] for lat in heights_smoothed.lat]\n",
    "\n",
    "# Loop over hemispheres and times to compute wave properties (extrema, wave number, wave amplitude, wave speed)\n",
    "for j in range(0, len(heights_smoothed.lat)):\n",
    "    \n",
    "    lat = heights_smoothed.lat[j]\n",
    "    \n",
    "    # Get this particular latitude's storage variables\n",
    "    minima = minima_full[j]\n",
    "    maxima = maxima_full[j]\n",
    "    wave_number = wave_number_full[j]\n",
    "    wave_amplitude = wave_amplitude_full[j]\n",
    "    wave_speed = wave_speed_full[j]\n",
    "\n",
    "    for i in range(0, len(heights_smoothed.time)):\n",
    "        # Filter out this time's height data\n",
    "        current_heights = heights_smoothed.sel(isobaric=50000., lat=lat).isel(time=i)\n",
    "        \n",
    "        # Get the minima and maxima\n",
    "        minima_indicies = get_minima_indicies(current_heights)\n",
    "        maxima_indicies = get_maxima_indicies(current_heights)\n",
    "        minima.append(current_heights.lon[minima_indicies].values)\n",
    "        maxima.append(current_heights.lon[maxima_indicies].values)\n",
    "        \n",
    "        # Calculate Wave Number\n",
    "        k = max(len(minima_indicies), len(maxima_indicies))\n",
    "        wave_number.append(k)\n",
    "        \n",
    "        # Calculate Amplitude\n",
    "        trough_avg = current_heights[minima_indicies].values.mean()\n",
    "        ridge_avg = current_heights[maxima_indicies].values.mean()\n",
    "        a = (ridge_avg-trough_avg)/2.\n",
    "        wave_amplitude.append(a)\n",
    "        \n",
    "        # Calculate Wave Speed\n",
    "        if i == 0:\n",
    "            # First time, cannot compute one-sided backwards difference\n",
    "            c = np.nan\n",
    "        else:\n",
    "            # Otherwise, calculate speed (in deg lon/day)\n",
    "            previous_minima = minima[i-1]\n",
    "            previous_maxima = maxima[i-1]\n",
    "            current_minima = minima[i]\n",
    "            current_maxima = maxima[i]\n",
    "            \n",
    "            time_diff = heights_smoothed.time[i] - heights_smoothed.time[i-1]\n",
    "            \n",
    "            minima_increments = get_increments(previous_minima, current_minima)\n",
    "            maxima_increments = get_increments(previous_maxima, current_maxima)\n",
    "            lon_increments = np.concatenate([minima_increments, maxima_increments])\n",
    "            \n",
    "            c = reject_outliers(lon_increments).mean() / fraction_of_day(time_diff.values)\n",
    "        \n",
    "        wave_speed.append(c)\n",
    "        \n",
    "# Get our variables back into nice DataArrays\n",
    "wave_property_coords = [('lat', heights_smoothed.lat), ('time', heights_smoothed.time)]\n",
    "\n",
    "wave_number_raw = xr.DataArray(wave_number_full, coords=wave_property_coords, name='wave_number')\n",
    "wave_amplitude = xr.DataArray(wave_amplitude_full, coords=wave_property_coords, name='wave_amplitude')\n",
    "wave_speed = xr.DataArray(wave_speed_full, coords=wave_property_coords, name='wave_speed')\n",
    "\n",
    "# Set unit metadata\n",
    "wave_number_raw.attrs['units'] = 'earth_radius**-1'\n",
    "wave_amplitude.attrs['units'] = 'm'\n",
    "wave_speed.attrs['units'] = 'degrees_east day**-1'"
   ]
  },
  {
   "cell_type": "code",
   "execution_count": null,
   "metadata": {},
   "outputs": [],
   "source": [
    "# Now, for example, see how the wave speed changed over time (NH)\n",
    "wave_speed.sel(lat=50).plot()"
   ]
  },
  {
   "cell_type": "markdown",
   "metadata": {},
   "source": [
    "<a href=\"#top\">Top</a>\n",
    "\n",
    "---"
   ]
  },
  {
   "cell_type": "markdown",
   "metadata": {},
   "source": [
    "## 3. Statistical Comparison Against Theory"
   ]
  },
  {
   "cell_type": "markdown",
   "metadata": {},
   "source": [
    "For the barotropic long-waves of Rossby Wave Theory, we expect the following phase speed:\n",
    "\n",
    "$$c_x = u - \\frac{\\beta}{k^2 + l^2},$$\n",
    "\n",
    "where $u$ is background zonal flow, $\\beta = \\frac{\\partial f}{\\partial y}$, and $k$ and $l$ are zonal and meridional wave numbers, respectively. We also expect that wave patterns with higher wave numbers will have lower amplitudes. And so, below we will investigate the degree to which our observations fit our theory by looking at the following correlations:\n",
    "\n",
    "- Wave Speed vs. Zonal Wind\n",
    "- Wave Speed vs. Wave Number\n",
    "- Wave Amplitude vs. Wave Number"
   ]
  },
  {
   "cell_type": "markdown",
   "metadata": {},
   "source": [
    "### Correlations\n",
    "\n",
    "To [perform the linear regressions, we use scipy](https://docs.scipy.org/doc/scipy-1.6.0/reference/generated/scipy.stats.linregress.html)."
   ]
  },
  {
   "cell_type": "markdown",
   "metadata": {},
   "source": [
    "*Unit Conversions*\n",
    "\n",
    "- Convert `wave_number` from earth_radius<sup>-1</sup> to m<sup>-1</sup>\n",
    "- Convert `wave_speed` from deg_lon day<sup>-1</sup> to m s<sup>-1</sup>"
   ]
  },
  {
   "cell_type": "code",
   "execution_count": null,
   "metadata": {},
   "outputs": [],
   "source": [
    "lat = 50 * units('degrees')\n",
    "\n",
    "# Wave number conversion factor\n",
    "scale_factor = 1 / earth_avg_radius\n",
    "wave_number = wave_number_raw * scale_factor\n",
    "wave_number.attrs['units'] = 'm^-1'\n",
    "\n",
    "# Wave speed conversion factor\n",
    "scale_factor = (units('degrees day^-1') * 2 * np.pi * np.cos(lat) * earth_avg_radius / (360 * units('degrees'))).to('m s^-1')\n",
    "# Make sure this runs only once\n",
    "if wave_speed.attrs['units'] == 'degrees_east day^-1':\n",
    "    wave_speed = wave_speed * scale_factor\n",
    "    wave_speed.attrs['units'] = 'm s^-1'"
   ]
  },
  {
   "cell_type": "markdown",
   "metadata": {},
   "source": [
    "**Wave Speed vs. Zonal Wind**\n",
    "\n",
    "Here, we would expect to see a roughly linear relationship, with slope near 1, but variability in the y-intercept due to the (presently unaccounted for) wave number."
   ]
  },
  {
   "cell_type": "code",
   "execution_count": null,
   "metadata": {},
   "outputs": [],
   "source": [
    "# Define four different subsets of our data to consider\n",
    "configs = [\n",
    "    {\n",
    "        'hemisphere': 1,\n",
    "        'hemisphere_label': 'Northern Hemisphere',\n",
    "        'wind': zonal_wind_500,\n",
    "        'wind_label': '500 hPa Zonal Wind'\n",
    "    },\n",
    "    {\n",
    "        'hemisphere': 1,\n",
    "        'hemisphere_label': 'Northern Hemisphere',\n",
    "        'wind': zonal_wind_upper,\n",
    "        'wind_label': '150-300 hPa Layer Maximum Zonal Wind'\n",
    "    },\n",
    "    {\n",
    "        'hemisphere': -1,\n",
    "        'hemisphere_label': 'Southern Hemisphere',\n",
    "        'wind': zonal_wind_500,\n",
    "        'wind_label': '500 hPa Zonal Wind'\n",
    "    },\n",
    "    {\n",
    "        'hemisphere': -1,\n",
    "        'hemisphere_label': 'Southern Hemisphere',\n",
    "        'wind': zonal_wind_upper,\n",
    "        'wind_label': '150-300 hPa Layer Maximum Zonal Wind'\n",
    "    } \n",
    "]\n",
    "\n",
    "# Loop over the configurations\n",
    "for config in configs:\n",
    "    # Mask the initial NaN, and calculate linear regression\n",
    "    y = np.ma.masked_invalid(wave_speed.sel(lat=config['hemisphere'] * 50).values)\n",
    "    x = np.ma.masked_where(np.ma.getmask(y), config['wind'].sel(lat=config['hemisphere'] * 50).values) \n",
    "    m, b, r, p, stderr = linregress(x.compressed(), y.compressed())\n",
    "\n",
    "    # Set up plot\n",
    "    ax = plt.subplot()\n",
    "    ax.set_title('{} \\nwith {}'.format(config['hemisphere_label'], config['wind_label']))\n",
    "    ax.set_ylabel('Wave Speed (m s^-1)')\n",
    "    ax.set_xlabel('{} (m s^-1)'.format(config['wind_label']))\n",
    "\n",
    "    # Scatter Plot\n",
    "    ax.scatter(x, y)\n",
    "\n",
    "    # Regression Line\n",
    "    xfill = np.array([x.min(), x.max()])\n",
    "    ax.plot(xfill, m * xfill + b, color='red')\n",
    "\n",
    "    plt.show()\n",
    "    print(\"Slope: {}\".format(m))\n",
    "    print(\"Correlation: {}\".format(r))"
   ]
  },
  {
   "cell_type": "markdown",
   "metadata": {},
   "source": [
    "**Wave Speed vs. Wave Number**\n",
    "\n",
    "Here, we first have to normalize our wave speed and wave number in order to obtain a theoretical linear relationship:\n",
    "\n",
    "$$c_x - u = (-\\beta) \\frac{1}{k^2},$$\n",
    "\n",
    "(Note that this also ignores meridional wave number, since we are primarily concerned with the zonal waves.) And so, we would expect to see a linear relationship, with slope near $-\\beta$, and a y-intercept near zero."
   ]
  },
  {
   "cell_type": "code",
   "execution_count": null,
   "metadata": {},
   "outputs": [],
   "source": [
    "# Find beta (same in NH and SH due to symmetry)\n",
    "beta = (2 * earth_avg_angular_vel * np.cos(lat) / earth_avg_radius).to('m^-1 s^-1')\n",
    "beta"
   ]
  },
  {
   "cell_type": "code",
   "execution_count": null,
   "metadata": {},
   "outputs": [],
   "source": [
    "# Prepare our variables\n",
    "normalized_wave_speed = wave_speed - zonal_wind_500\n",
    "linearized_wave_number = 1 / wave_number ** 2\n",
    "\n",
    "# Define two different subsets of our data to consider\n",
    "configs = [\n",
    "    {\n",
    "        'hemisphere': 1,\n",
    "        'hemisphere_label': 'Northern Hemisphere'\n",
    "    },\n",
    "    {\n",
    "        'hemisphere': -1,\n",
    "        'hemisphere_label': 'Southern Hemisphere'\n",
    "    }\n",
    "]\n",
    "\n",
    "# Loop over the configurations\n",
    "for config in configs:\n",
    "    # Mask the initial NaN, and calculate linear regression\n",
    "    y = np.ma.masked_invalid(normalized_wave_speed.sel(lat=config['hemisphere'] * 50).values)\n",
    "    x = np.ma.masked_where(np.ma.getmask(y), linearized_wave_number.sel(lat=config['hemisphere'] * 50).values) \n",
    "    m, b, r, p, stderr = linregress(x.compressed(), y.compressed())\n",
    "\n",
    "    # Set up plot\n",
    "    ax = plt.subplot()\n",
    "    ax.set_title(config['hemisphere_label'])\n",
    "    ax.set_ylabel('Normalized Wave Speed (m s^-1)')\n",
    "    ax.set_xlabel('Square Reciprocal of Wave Number(m^2)')\n",
    "\n",
    "    # Scatter Plot\n",
    "    ax.scatter(x, y)\n",
    "\n",
    "    # Regression Line\n",
    "    xfill = np.array([x.min(), x.max()])\n",
    "    ax.plot(xfill, m * xfill + b, color='red')\n",
    "\n",
    "    plt.show()\n",
    "    print(\"Slope: {}\".format(m))\n",
    "    print(\"Correlation: {}\".format(r))"
   ]
  },
  {
   "cell_type": "markdown",
   "metadata": {},
   "source": [
    "**Wave Amplitude vs. Wave Number**\n",
    "\n",
    "This is a resonably straightforward relationship: we expect the wave amplitude to decrease as wave number increases."
   ]
  },
  {
   "cell_type": "code",
   "execution_count": null,
   "metadata": {},
   "outputs": [],
   "source": [
    "# Define two different subsets of our data to consider\n",
    "configs = [\n",
    "    {\n",
    "        'hemisphere': 1,\n",
    "        'hemisphere_label': 'Northern Hemisphere'\n",
    "    },\n",
    "    {\n",
    "        'hemisphere': -1,\n",
    "        'hemisphere_label': 'Southern Hemisphere'\n",
    "    }\n",
    "]\n",
    "\n",
    "# Loop over the configurations\n",
    "for config in configs:\n",
    "    # Mask the initial NaN, and calculate linear regression\n",
    "    y = wave_amplitude.sel(lat=config['hemisphere'] * 50).values\n",
    "    x = wave_number_raw.sel(lat=config['hemisphere'] * 50).values\n",
    "    m, b, r, p, stderr = linregress(x, y)\n",
    "\n",
    "    # Set up plot\n",
    "    ax = plt.subplot()\n",
    "    ax.set_title(config['hemisphere_label'])\n",
    "    ax.set_ylabel('Normalized Wave Speed (m s^-1)')\n",
    "    ax.set_xlabel('Wave Number(earth_radius^-1)')\n",
    "\n",
    "    # Scatter Plot\n",
    "    ax.scatter(x, y)\n",
    "\n",
    "    # Regression Line\n",
    "    xfill = np.array([x.min(), x.max()])\n",
    "    ax.plot(xfill, m * xfill + b, color='red')\n",
    "\n",
    "    plt.show()\n",
    "    print(\"Slope: {}\".format(m))\n",
    "    print(\"Correlation: {}\".format(r))"
   ]
  },
  {
   "cell_type": "markdown",
   "metadata": {},
   "source": [
    "**Conclusions**\n",
    "\n",
    "What we found in our analysis (at least for the sample case set used here) was that most (but not all) of the trends expected by Rossby Wave Theory were observed in our data, but the regression statistics did not usually fit with their theoretical values. This mismatch indicates the limitations in our simplified barotropic theory when trying to apply it to the real atmosphere in the mid-latitudes, which is often baroclinic."
   ]
  },
  {
   "cell_type": "markdown",
   "metadata": {},
   "source": [
    "<a href=\"#top\">Top</a>\n",
    "\n",
    "---"
   ]
  },
  {
   "cell_type": "markdown",
   "metadata": {},
   "source": [
    "## 4. Hovmöller Diagrams\n",
    "\n",
    "xarray makes it easy to make basic Hovmöller diagrams! Just subset and use `.plot`! More advanced examples are also certainly possible by leveraging the full flexibility of matplotlib."
   ]
  },
  {
   "cell_type": "code",
   "execution_count": null,
   "metadata": {},
   "outputs": [],
   "source": [
    "# Northern Hemisphere\n",
    "heights_smoothed.sel(isobaric=50000., lat=50).plot(yincrease=False)\n",
    "plt.title('Northern Hemisphere')\n",
    "plt.show()"
   ]
  },
  {
   "cell_type": "code",
   "execution_count": null,
   "metadata": {},
   "outputs": [],
   "source": [
    "# Southern Hemisphere\n",
    "heights_smoothed.sel(isobaric=50000., lat=-50).plot(yincrease=False)\n",
    "plt.title('Southern Hemisphere')\n",
    "plt.show()"
   ]
  },
  {
   "cell_type": "markdown",
   "metadata": {},
   "source": [
    "<a href=\"#top\">Top</a>"
   ]
  }
 ],
 "metadata": {
  "kernelspec": {
   "display_name": "Python [conda env:pyaos-ams-2021]",
   "language": "python",
   "name": "conda-env-pyaos-ams-2021-py"
  },
  "language_info": {
   "codemirror_mode": {
    "name": "ipython",
    "version": 3
   },
   "file_extension": ".py",
   "mimetype": "text/x-python",
   "name": "python",
   "nbconvert_exporter": "python",
   "pygments_lexer": "ipython3",
   "version": "3.9.1"
  }
 },
 "nbformat": 4,
 "nbformat_minor": 4
}
