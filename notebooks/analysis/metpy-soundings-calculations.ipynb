{
 "cells": [
  {
   "cell_type": "markdown",
   "metadata": {},
   "source": [
    "<a name=\"top\"></a>\n",
    "<div style=\"width:1000 px\">\n",
    "\n",
    "<div style=\"float:right; width:98 px; height:98px;\">\n",
    "<img src=\"https://raw.githubusercontent.com/Unidata/MetPy/master/src/metpy/plots/_static/unidata_150x150.png\" alt=\"Unidata Logo\" style=\"height: 98px;\">\n",
    "</div>\n",
    "\n",
    "<h1>MetPy and Soundings: Calculations</h1>\n",
    "<h3>Unidata AMS 2021 Student Conference</h3>\n",
    "\n",
    "<div style=\"clear:both\"></div>\n",
    "</div>\n",
    "\n",
    "---\n",
    "\n",
    "<div style=\"float:right; width:250 px\"><img src=\"../../instructors/images/metpy-soundings-calculations-preview.png\" alt=\"skew t diagram with Lifting Condensation Level marked, and convective available potential energy (CAPE) and convective inhibition (CIN) shaded\" style=\"height: 300px;\"></div>\n",
    "\n",
    "\n",
    "### Focuses\n",
    "* Compute common sounding parameters \n",
    "* Assign units to variable\n",
    "* Represent the calculations visually\n",
    "\n",
    "### Objectives\n",
    "1. [Read in sample data and assign units](#prep)\n",
    "1. [Compute the Lifting Condensation Level](#lcl)\n",
    "1. [Calculate the convective available potential energy (CAPE) and convective inhibition (CIN)](#cape_cin)\n",
    "1. [Visually represent calculated parameters](#plot)\n",
    "<br>\n",
    "<br>\n",
    "<br>\n",
    "---"
   ]
  },
  {
   "cell_type": "markdown",
   "metadata": {},
   "source": [
    "## Imports\n",
    "We will be using sample data from MetPy in this example.\n",
    "The raw data can be viewed in your browser at [this location](https://raw.githubusercontent.com/Unidata/MetPy/v0.12.2/staticdata/may4_sounding.txt).\n",
    "This might be similar to data you would have if you collected it yourself.\n",
    "We will use the `pandas` library to read in and cleanup the raw data.\n",
    "`metpy.calc` is used to compute the sounding parameters, such as the lifting condensation level (LCL).\n",
    "Because we are reading in raw text data, we will `use metpy.units` to make sure units are attached to the numerical data stored read in by `pandas`."
   ]
  },
  {
   "cell_type": "code",
   "execution_count": null,
   "metadata": {},
   "outputs": [],
   "source": [
    "import matplotlib.pyplot as plt\n",
    "import pandas as pd\n",
    "\n",
    "import metpy.calc as mpcalc\n",
    "from metpy.cbook import get_test_data\n",
    "from metpy.plots import add_metpy_logo, SkewT\n",
    "from metpy.units import units"
   ]
  },
  {
   "cell_type": "markdown",
   "metadata": {},
   "source": [
    "---\n",
    "\n",
    "## Read in sample data and assign units <a name=\"prep\" />\n",
    "\n",
    "The first few lines of the raw data file look like:\n",
    "\n",
    "~~~\n",
    "-----------------------------------------------------------------------------\n",
    "   PRES   HGHT   TEMP   DWPT   RELH   MIXR   DRCT   SKNT   THTA   THTE   THTV\n",
    "    hPa     m      C      C      %    g/kg    deg   knot     K      K      K \n",
    "-----------------------------------------------------------------------------\n",
    " 1000.0     -7                                                               \n",
    "  959.0    345   22.2   19.0     82  14.64    160     18  298.9  341.8  301.5\n",
    "  931.3    610   20.2   17.5     84  13.66    165     40  299.4  339.5  301.9\n",
    "  925.0    671   19.8   17.1     84  13.44    165     38  299.6  339.0  302.0\n",
    "~~~\n",
    "\n",
    "Let us define a list to hold the column names of the data we are interested in using:"
   ]
  },
  {
   "cell_type": "code",
   "execution_count": null,
   "metadata": {},
   "outputs": [],
   "source": [
    "col_names = ['pressure', 'height', 'temperature', 'dewpoint', 'direction', 'speed']"
   ]
  },
  {
   "cell_type": "markdown",
   "metadata": {},
   "source": [
    "Next, we use `pandas` to read in the data contained in the text file, mapping the column name from above to columns `0, 1, 2, 3, 6, and 7`:"
   ]
  },
  {
   "cell_type": "code",
   "execution_count": null,
   "metadata": {},
   "outputs": [],
   "source": [
    "df = pd.read_fwf(get_test_data('may4_sounding.txt', as_file_obj=False),\n",
    "                 skiprows=5, usecols=[0, 1, 2, 3, 6, 7], names=col_names)"
   ]
  },
  {
   "cell_type": "markdown",
   "metadata": {},
   "source": [
    "Now that we've read the data into a `DataFrame`, we will use `pandas` to clean up the raw data, dropping any rows with all `NaN` values for `T`, `Td`, and `winds`."
   ]
  },
  {
   "cell_type": "code",
   "execution_count": null,
   "metadata": {},
   "outputs": [],
   "source": [
    "df = df.dropna(subset=('temperature', 'dewpoint', 'direction', 'speed'), how='all').reset_index(drop=True)"
   ]
  },
  {
   "cell_type": "markdown",
   "metadata": {},
   "source": [
    "Finally, we use the `metpy.units` package to assign unit to our data:"
   ]
  },
  {
   "cell_type": "code",
   "execution_count": null,
   "metadata": {},
   "outputs": [],
   "source": [
    "p = df['pressure'].values * units.hPa\n",
    "T = df['temperature'].values * units.degC\n",
    "Td = df['dewpoint'].values * units.degC\n",
    "wind_speed = df['speed'].values * units.knots\n",
    "wind_dir = df['direction'].values * units.degrees"
   ]
  },
  {
   "cell_type": "markdown",
   "metadata": {},
   "source": [
    "<a href=\"#top\">Top</a>\n",
    "\n",
    "---\n",
    "\n",
    "### Compute the Lifting Condensation Level (LCL) <a name=\"lcl\" />\n",
    "\n",
    "We can use the `lcl` function from `metpy.calc` to compute the LCL.\n",
    "The MetPy developers have went to great lengths to ensure the calculations available in the package are well documented and tested.\n",
    "To view this information, you may look in the online [MetPy API documentation](https://unidata.github.io/MetPy/latest/api/generated/metpy.calc.html), or use `?` to bring up the documentation in the notebook environment, like this:"
   ]
  },
  {
   "cell_type": "code",
   "execution_count": null,
   "metadata": {},
   "outputs": [],
   "source": [
    "mpcalc.lcl?"
   ]
  },
  {
   "cell_type": "markdown",
   "metadata": {},
   "source": [
    "Because `p`'s first value is ~1000 mb and its last value is ~250 mb, the `0` index is selected for `p`, `T`, and `Td` to lift the parcel from the surface.\n",
    "\n",
    "<div class=\"alert alert-block alert-info\">\n",
    "  <b>Note: Sometimes sounding data start at the lowest pressure</b>: If `p` was inverted (i.e. start from low value, 250 mb, to a high value, 1000 mb) the `-1` index should be selected.\n",
    "</div>"
   ]
  },
  {
   "cell_type": "code",
   "execution_count": null,
   "metadata": {},
   "outputs": [],
   "source": [
    "lcl_pressure, lcl_temperature = mpcalc.lcl(p[0], T[0], Td[0])"
   ]
  },
  {
   "cell_type": "markdown",
   "metadata": {},
   "source": [
    "<a href=\"#top\">Top</a>\n",
    "\n",
    "---\n",
    "\n",
    "## Calculate the convective available potential energy (CAPE) and convective inhibition (CIN) <a name=\"cape_cin\" />\n",
    "\n",
    "We can also calculate the convective available potential energy (CAPE) and convective inhibition (CIN), this time using the `metpy.calc` function `cape_cin`.\n",
    "First, let us examine the documentation:"
   ]
  },
  {
   "cell_type": "code",
   "execution_count": null,
   "metadata": {},
   "outputs": [],
   "source": [
    "mpcalc.cape_cin?"
   ]
  },
  {
   "cell_type": "markdown",
   "metadata": {},
   "source": [
    "While this docstring as viewed in the Jupyter environment is helpful, it is easier to read [in the browser](https://unidata.github.io/MetPy/latest/api/generated/metpy.calc.cape_cin.html) (the LaTeX equations are rendered as equations, for example).\n",
    "\n",
    "As you can see in the docstring, the `cape_cin` function requires a `parcel_profile`, which is the temperature profile of a parcel.\n",
    "No worries, as MetPy can compute this for us using the `parcel_profile` function:"
   ]
  },
  {
   "cell_type": "code",
   "execution_count": null,
   "metadata": {},
   "outputs": [],
   "source": [
    "prof = mpcalc.parcel_profile(p, T[0], Td[0]).to('degC')"
   ]
  },
  {
   "cell_type": "markdown",
   "metadata": {},
   "source": [
    "Now we can compute the CAPE and CIN values with one function call:"
   ]
  },
  {
   "cell_type": "code",
   "execution_count": null,
   "metadata": {},
   "outputs": [],
   "source": [
    "cape, cin = mpcalc.cape_cin(p, T, Td, prof)\n",
    "print(\"CAPE: {:4.1f}\".format(cape))\n",
    "print(\"CIN: {:4.1f}\".format(cin))"
   ]
  },
  {
   "cell_type": "markdown",
   "metadata": {},
   "source": [
    "<a href=\"#top\">Top</a>\n",
    "\n",
    "---\n",
    "\n",
    "## Visually represent calculated parameters <a name=\"plot\" />\n",
    "\n",
    "\n",
    "The last step will be to visualize our computed parameters.\n",
    "Building upon the [MetPy SkewT](https://nbviewer.jupyter.org/github/Unidata/pyaos-ams-2021/blob/master/notebooks/visualization/MetPy-SkewT.ipynb) notebook, we can create a SkewT diagram using matplotlib.\n",
    "See the comments within the code block below for an explanation about how each element is added to the diagram:"
   ]
  },
  {
   "cell_type": "code",
   "execution_count": null,
   "metadata": {},
   "outputs": [],
   "source": [
    "#####################\n",
    "# Basic SkewT setup #\n",
    "#####################\n",
    "\n",
    "fig = plt.figure(figsize=(9, 9))\n",
    "add_metpy_logo(fig, 115, 100)\n",
    "skew = SkewT(fig, rotation=45)\n",
    "\n",
    "# Plot the data using normal plotting functions, in this case using\n",
    "# log scaling in Y, as dictated by the typical meteorological plot.\n",
    "skew.plot(p, T, 'r')\n",
    "skew.plot(p, Td, 'g')\n",
    "# compute u and v from windspeed and wind direction\n",
    "u, v = mpcalc.wind_components(wind_speed, wind_dir)\n",
    "skew.plot_barbs(p, u, v)\n",
    "skew.ax.set_ylim(1000, 100)\n",
    "skew.ax.set_xlim(-40, 60)\n",
    "\n",
    "# Add the relevant special lines\n",
    "skew.plot_dry_adiabats()\n",
    "skew.plot_moist_adiabats()\n",
    "skew.plot_mixing_lines()\n",
    "\n",
    "#####################################\n",
    "# Visualize the computed parameters #\n",
    "#####################################\n",
    "\n",
    "# Plot the location of the LCL as black dot\n",
    "skew.plot(lcl_pressure, lcl_temperature, 'ko', markerfacecolor='black')\n",
    "\n",
    "# Plot the profile parcel as black line\n",
    "skew.plot(p, prof, 'k', linewidth=2)\n",
    "\n",
    "# Shade areas of CAPE and CIN\n",
    "skew.shade_cin(p, T, prof)\n",
    "skew.shade_cape(p, T, prof)"
   ]
  },
  {
   "cell_type": "markdown",
   "metadata": {},
   "source": [
    "Congratulations!\n",
    "You have now used python to do some fairly complex calculations for Skew-T analysis based on raw data from a text file."
   ]
  },
  {
   "cell_type": "markdown",
   "metadata": {},
   "source": [
    "<a href=\"#top\">Top</a>\n",
    "\n",
    "---"
   ]
  },
  {
   "cell_type": "markdown",
   "metadata": {},
   "source": [
    "## Documentation\n",
    "\n",
    "* [metpy.plots.SkewT](https://unidata.github.io/MetPy/latest/api/generated/metpy.plots.SkewT.html#metpy.plots.SkewT)\n",
    "* [metpy.calc](https://unidata.github.io/MetPy/latest/api/generated/metpy.calc.html)\n",
    "\n",
    "## Other Notebooks\n",
    "\n",
    "* [MetPy SkewT](https://nbviewer.jupyter.org/github/Unidata/pyaos-ams-2021/blob/master/notebooks/visualization/MetPy-SkewT.ipynb)"
   ]
  },
  {
   "cell_type": "markdown",
   "metadata": {},
   "source": [
    "<a href=\"#top\">Top</a>\n",
    "\n",
    "---"
   ]
  }
 ],
 "metadata": {
  "kernelspec": {
   "display_name": "Python 3",
   "language": "python",
   "name": "python3"
  },
  "language_info": {
   "codemirror_mode": {
    "name": "ipython",
    "version": 3
   },
   "file_extension": ".py",
   "mimetype": "text/x-python",
   "name": "python",
   "nbconvert_exporter": "python",
   "pygments_lexer": "ipython3",
   "version": "3.7.9"
  }
 },
 "nbformat": 4,
 "nbformat_minor": 4
}
